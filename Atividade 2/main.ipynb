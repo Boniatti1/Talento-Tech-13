{
 "cells": [
  {
   "cell_type": "markdown",
   "metadata": {},
   "source": [
    "# ANÁLISE PREDITIVA DO PREÇO DE VEÍCULOS \n",
    "\n",
    "## Descrição:\n",
    "Segunda atividade do módulo 4 da disciplina 13 - Introdução a Ciência de Dados e Inteligência Artificial, do curso Talento Tech - PR.\n",
    "\n",
    "## Objetivo:\n",
    "Implementar um modelo para predição da condição do fechamento do Bitcoin, em relação ao dia anterior.\n",
    "\n",
    "## Ferramentas utilizadas:\n",
    "O projeto foi desenvolvido em python, com as seguintes bibliotecas:\n",
    "* Yfinance, para coleta de preços\n",
    "* Pandas, para manipulação dos dados\n",
    "* Scikit-Learn, para utilizar os modelos de previsão\n",
    "\n",
    "---"
   ]
  },
  {
   "cell_type": "markdown",
   "metadata": {},
   "source": [
    "### Metodologia"
   ]
  },
  {
   "cell_type": "markdown",
   "metadata": {},
   "source": [
    "A análise foi feita em 4 períodos de tempo diferentes. Além dos dados de abertura, fechamento, máxima e mínima, também foram utilizadas as Médias Móveis Simples e Ponderadas. A Média Simples funciona para dar uma visão geral sobre a tendência de curto prazo, enquanto a Média Ponderada considera uma visão de prazo maior."
   ]
  },
  {
   "cell_type": "markdown",
   "metadata": {},
   "source": [
    "---"
   ]
  },
  {
   "cell_type": "markdown",
   "metadata": {},
   "source": [
    "### Preparo dos dados"
   ]
  },
  {
   "cell_type": "code",
   "execution_count": 38,
   "metadata": {},
   "outputs": [],
   "source": [
    "import pandas as pd\n",
    "import numpy as np\n",
    "\n",
    "data_6m = pd.read_csv(\"data/data_6_months.csv\")\n",
    "data_3m = pd.read_csv(\"data/data_3_months.csv\")\n",
    "data_1y = pd.read_csv(\"data/data_1_year.csv\")\n",
    "data_2y = pd.read_csv(\"data/data_2_years.csv\")\n",
    "\n",
    "def get_dataframe(df: pd.DataFrame, MMS_PARAM, WMA_PARAM):\n",
    "    MAX_RANGE = max(MMS_PARAM, WMA_PARAM) - 1\n",
    "\n",
    "    for i in range(MAX_RANGE, len(df)):\n",
    "        df.loc[i - (MMS_PARAM - 1): i][\"Close\"]\n",
    "        \n",
    "        mms = df.loc[i - (MMS_PARAM - 1): i][\"Close\"].mean()\n",
    "        wma = np.average(df.loc[i - (WMA_PARAM - 1): i][\"Close\"], weights=[k + 1 for k in range(WMA_PARAM)])\n",
    "\n",
    "        df.at[i, \"MMS\"] = mms\n",
    "        df.at[i, \"WMA\"] = wma\n",
    "        \n",
    "        df.at[i, \"High\"] = 1 if df.iloc[i - 1][\"Close\"] < df.iloc[i][\"Close\"] else 0\n",
    "        \n",
    "    df = df.loc[MAX_RANGE:].reset_index(drop=True)\n",
    "    df[\"High\"] = df[\"High\"].astype(int)\n",
    "    return df\n"
   ]
  },
  {
   "cell_type": "markdown",
   "metadata": {},
   "source": [
    "---"
   ]
  },
  {
   "cell_type": "markdown",
   "metadata": {},
   "source": [
    "### Treinamento e acurácia"
   ]
  },
  {
   "cell_type": "markdown",
   "metadata": {},
   "source": [
    "#### Random Forest"
   ]
  },
  {
   "cell_type": "code",
   "execution_count": 4,
   "metadata": {},
   "outputs": [],
   "source": [
    "from sklearn.ensemble import RandomForestClassifier\n",
    "from sklearn.metrics import accuracy_score\n",
    "from sklearn.model_selection import train_test_split\n",
    "from sklearn.preprocessing import StandardScaler\n",
    "\n",
    "def get_best_params_rf(data: pd.DataFrame):\n",
    "    MMS_PARAMS = [4,5,6,7,8,9,10]\n",
    "    WMA_PARAMS = [4,5,6,7,8,9,10]\n",
    "    results = []\n",
    "    \n",
    "    for MMS_PARAM in MMS_PARAMS:\n",
    "        for WMA_PARAM in WMA_PARAMS:\n",
    "            df = get_dataframe(data, MMS_PARAM, WMA_PARAM)\n",
    "            \n",
    "            y = df[\"High\"]\n",
    "            x = df[[\"Close\", \"Low\", \"Open\", \"Volume\", \"MMS\", \"WMA\"]]\n",
    "            \n",
    "            scaler = StandardScaler()\n",
    "            x = scaler.fit_transform(x)\n",
    "\n",
    "            x_train, x_test, y_train, y_test = train_test_split(x, y, test_size=0.2, shuffle=False)\n",
    "            \n",
    "            \n",
    "            model = RandomForestClassifier(random_state=42)\n",
    "            model.fit(x_train, y_train)\n",
    "            \n",
    "            preds = model.predict(x_test)\n",
    "            \n",
    "            score = accuracy_score(y_test, preds)\n",
    "            \n",
    "            results.append({\"score\": score, \"MMS_PARAM\": MMS_PARAM, \"WMA_PARAM\": WMA_PARAM})\n",
    "            \n",
    "    return max(results, key=lambda x: x[\"score\"])\n",
    "\n",
    "results_6m_rf = get_best_params_rf(data_6m)\n",
    "results_3m_rf = get_best_params_rf(data_3m)\n",
    "results_1y_rf = get_best_params_rf(data_1y)\n",
    "results_2y_rf = get_best_params_rf(data_2y)\n",
    "            \n"
   ]
  },
  {
   "cell_type": "code",
   "execution_count": 5,
   "metadata": {},
   "outputs": [
    {
     "name": "stdout",
     "output_type": "stream",
     "text": [
      "3 meses: {'score': 0.6363636363636364, 'MMS_PARAM': 5, 'WMA_PARAM': 8}\n",
      "6 meses: {'score': 0.84, 'MMS_PARAM': 4, 'WMA_PARAM': 5}\n",
      "1 ano: {'score': 0.8, 'MMS_PARAM': 4, 'WMA_PARAM': 6}\n",
      "2 anos: {'score': 0.5555555555555556, 'MMS_PARAM': 9, 'WMA_PARAM': 5}\n"
     ]
    }
   ],
   "source": [
    "print(\"3 meses:\", results_3m_rf)\n",
    "print(\"6 meses:\", results_6m_rf)\n",
    "print(\"1 ano:\", results_1y_rf)\n",
    "print(\"2 anos:\", results_2y_rf)"
   ]
  },
  {
   "cell_type": "markdown",
   "metadata": {},
   "source": [
    "#### Regressão Logística"
   ]
  },
  {
   "cell_type": "code",
   "execution_count": 6,
   "metadata": {},
   "outputs": [],
   "source": [
    "from sklearn.linear_model import LogisticRegression\n",
    "\n",
    "def get_best_params_lg(data: pd.DataFrame):\n",
    "    MMS_PARAMS = [3,4,5,6,7,8,9,10,11,12,13,14,15,16,17,18,19,20]\n",
    "    WMA_PARAMS = [3,4,5,6,7,8,9,10,11,12,13,14,15,16,17,18,19,20]\n",
    "    results = []\n",
    "    \n",
    "    for MMS_PARAM in MMS_PARAMS:\n",
    "        for WMA_PARAM in WMA_PARAMS:\n",
    "            df = get_dataframe(data, MMS_PARAM, WMA_PARAM)\n",
    "            \n",
    "            y = df[\"High\"]\n",
    "            x = df[[\"Close\", \"Low\", \"Open\", \"Volume\", \"MMS\", \"WMA\"]]\n",
    "            \n",
    "            scaler = StandardScaler()\n",
    "            x = scaler.fit_transform(x)\n",
    "\n",
    "            x_train, x_test, y_train, y_test = train_test_split(x, y, test_size=0.2, shuffle=False)\n",
    "            \n",
    "            \n",
    "            model = LogisticRegression(random_state=42)\n",
    "            model.fit(x_train, y_train)\n",
    "            \n",
    "            preds = model.predict(x_test)\n",
    "            \n",
    "            score = accuracy_score(y_test, preds)\n",
    "            \n",
    "            results.append({\"score\": score, \"MMS_PARAM\": MMS_PARAM, \"WMA_PARAM\": WMA_PARAM})\n",
    "            \n",
    "    return max(results, key=lambda x: x[\"score\"])\n",
    "\n",
    "results_6m_lg = get_best_params_lg(data_6m)\n",
    "results_3m_lg = get_best_params_lg(data_3m)\n",
    "results_1y_lg = get_best_params_lg(data_1y)\n",
    "results_2y_lg = get_best_params_lg(data_2y)\n",
    "            \n"
   ]
  },
  {
   "cell_type": "code",
   "execution_count": 7,
   "metadata": {},
   "outputs": [
    {
     "name": "stdout",
     "output_type": "stream",
     "text": [
      "3 meses: {'score': 0.8181818181818182, 'MMS_PARAM': 6, 'WMA_PARAM': 12}\n",
      "6 meses: {'score': 0.8260869565217391, 'MMS_PARAM': 3, 'WMA_PARAM': 13}\n",
      "1 ano: {'score': 0.851063829787234, 'MMS_PARAM': 20, 'WMA_PARAM': 3}\n",
      "2 anos: {'score': 0.7755102040816326, 'MMS_PARAM': 10, 'WMA_PARAM': 18}\n"
     ]
    }
   ],
   "source": [
    "print(\"3 meses:\", results_3m_lg)\n",
    "print(\"6 meses:\", results_6m_lg)\n",
    "print(\"1 ano:\", results_1y_lg)\n",
    "print(\"2 anos:\", results_2y_lg)"
   ]
  },
  {
   "cell_type": "markdown",
   "metadata": {},
   "source": [
    "---"
   ]
  },
  {
   "cell_type": "markdown",
   "metadata": {},
   "source": [
    "## Conclusão"
   ]
  },
  {
   "cell_type": "markdown",
   "metadata": {},
   "source": [
    "Embora os dados de teste estejam presentes em um cenário de maior volatilidade do Bitcoin, os modelos se comportaram de forma satisfatória."
   ]
  },
  {
   "cell_type": "markdown",
   "metadata": {},
   "source": [
    "### Random Forest\n",
    "O Random Forest se adequou melhor aos períodos de média duração, adotando Médias Móveis Simples e Ponderadas curtas, sinalizando um possível foco em movimentos curtos. Isso pode ser observado no maior intervalo de tempo, onde a acurácia do modelo é menor.\n",
    "\n",
    "### Regressão Logística\n",
    "A regressão logística obteve bons resultados em todos os períodos de tempo analisados. No geral, o modelo funciona melhor com Médias Móveis Simples, capturando movimentos de curto prazo. Além disso, ele se adequou melhor com Médias Móveis Ponderadas mais longas, suavizando os dados e capturando também as tendências de longo prazo. "
   ]
  }
 ],
 "metadata": {
  "kernelspec": {
   "display_name": "Python 3 (ipykernel)",
   "language": "python",
   "name": "python3"
  },
  "language_info": {
   "codemirror_mode": {
    "name": "ipython",
    "version": 3
   },
   "file_extension": ".py",
   "mimetype": "text/x-python",
   "name": "python",
   "nbconvert_exporter": "python",
   "pygments_lexer": "ipython3",
   "version": "3.10.0"
  }
 },
 "nbformat": 4,
 "nbformat_minor": 4
}
