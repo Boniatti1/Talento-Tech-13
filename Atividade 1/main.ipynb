{
 "cells": [
  {
   "cell_type": "markdown",
   "metadata": {},
   "source": [
    "# ANÁLISE PREDITIVA DO PREÇO DE VEÍCULOS \n",
    "\n",
    "## Descrição:\n",
    "Primeira atividade do módulo 4 da disciplina 13 - Introdução a Ciência de Dados e Inteligência Artificial, do curso Talento Tech - PR.\n",
    "\n",
    "## Objetivo:\n",
    "Implementar um modelo para predição do preço de um veículo com base em suas características, tais como quilometragem, tipo de combustível, ano, etc.\n",
    "\n",
    "## Ferramentas utilizadas:\n",
    "O projeto foi desenvolvido em python, com as seguintes bibliotecas:\n",
    "* Playwright, para raspagem de dados\n",
    "* Pandas, para manipulação dos dados"
   ]
  },
  {
   "cell_type": "markdown",
   "metadata": {},
   "source": [
    "---"
   ]
  },
  {
   "cell_type": "code",
   "execution_count": 1,
   "metadata": {},
   "outputs": [
    {
     "ename": "SyntaxError",
     "evalue": "invalid syntax (1271191616.py, line 3)",
     "output_type": "error",
     "traceback": [
      "\u001b[0;36m  Cell \u001b[0;32mIn[1], line 3\u001b[0;36m\u001b[0m\n\u001b[0;31m    df =\u001b[0m\n\u001b[0m         ^\u001b[0m\n\u001b[0;31mSyntaxError\u001b[0m\u001b[0;31m:\u001b[0m invalid syntax\n"
     ]
    }
   ],
   "source": [
    "import pandas as pd\n",
    "\n",
    "df = "
   ]
  },
  {
   "cell_type": "markdown",
   "metadata": {},
   "source": []
  },
  {
   "cell_type": "code",
   "execution_count": null,
   "metadata": {},
   "outputs": [],
   "source": []
  }
 ],
 "metadata": {
  "kernelspec": {
   "display_name": ".venv",
   "language": "python",
   "name": "python3"
  },
  "language_info": {
   "codemirror_mode": {
    "name": "ipython",
    "version": 3
   },
   "file_extension": ".py",
   "mimetype": "text/x-python",
   "name": "python",
   "nbconvert_exporter": "python",
   "pygments_lexer": "ipython3",
   "version": "3.12.3"
  }
 },
 "nbformat": 4,
 "nbformat_minor": 2
}
